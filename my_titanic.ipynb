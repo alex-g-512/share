{
 "cells": [
  {
   "cell_type": "markdown",
   "metadata": {},
   "source": [
    "# Module imports\n",
    "Проверь, все ли используются. Ненужные - удали."
   ]
  },
  {
   "cell_type": "code",
   "execution_count": 52,
   "metadata": {},
   "outputs": [],
   "source": [
    "from catboost.datasets import titanic # Учебный датасет\n",
    "from catboost import CatBoostClassifier, Pool, metrics, cv\n",
    "from catboost import MetricVisualizer\n",
    "import numpy as np\n",
    "from numpy.random import default_rng\n",
    "import pandas as pd\n",
    "from sklearn.model_selection import train_test_split\n",
    "from sklearn.metrics import accuracy_score, f1_score, log_loss, precision_score, recall_score, roc_auc_score #, roc_curve, auc # Не получилось запустить\n",
    "import hyperopt"
   ]
  },
  {
   "cell_type": "markdown",
   "metadata": {},
   "source": [
    "# Загружаем данные\n",
    "Тут используем учебный датасет."
   ]
  },
  {
   "cell_type": "markdown",
   "metadata": {},
   "source": [
    "Создаём два датасета - для обучения модели и для проверки."
   ]
  },
  {
   "cell_type": "code",
   "execution_count": 53,
   "metadata": {},
   "outputs": [],
   "source": [
    "train_df, test_df = titanic()"
   ]
  },
  {
   "cell_type": "markdown",
   "metadata": {},
   "source": [
    "Изучаем наш датасет.\\\n",
    "\\\n",
    "Что находится в колонках:\\\n",
    "PassengerId - порядковый номер пассажира. Просто инкремент. Не является данными.\\\n",
    "Survived - выжил или нет. Целевая метрика. 0 = Нет, 1 = Да.\\\n",
    "Pclass - Ticket class, класс обслуживания. 1 = 1st, 2 = 2nd, 3 = 3rd.\\\n",
    "Sex - пол.\\\n",
    "Age - возраст.\\\n",
    "SibSp - siblings / spouses, кол-во сопровождающих братьев / супругов.\\\n",
    "Parch - parents / children, кол-во сопровождающих детей / родителей.\\\n",
    "Ticket - номер билета.\\\n",
    "Fare - стоимость билета.\\\n",
    "Cabin - номер каюты.\\\n",
    "Embarked - Port of Embarkation, порт посадки. C = Cherbourg, Q = Queenstown, S = Southampton.\\"
   ]
  },
  {
   "cell_type": "markdown",
   "metadata": {},
   "source": [
    "Удалим колонку 'PassengerId'."
   ]
  },
  {
   "cell_type": "code",
   "execution_count": 54,
   "metadata": {},
   "outputs": [],
   "source": [
    "# train_df.drop('PassengerId', axis=1, inplace=True)\n",
    "# test_df.drop('PassengerId', axis=1, inplace=True)"
   ]
  },
  {
   "cell_type": "code",
   "execution_count": 55,
   "metadata": {},
   "outputs": [
    {
     "data": {
      "text/html": [
       "<div>\n",
       "<style scoped>\n",
       "    .dataframe tbody tr th:only-of-type {\n",
       "        vertical-align: middle;\n",
       "    }\n",
       "\n",
       "    .dataframe tbody tr th {\n",
       "        vertical-align: top;\n",
       "    }\n",
       "\n",
       "    .dataframe thead th {\n",
       "        text-align: right;\n",
       "    }\n",
       "</style>\n",
       "<table border=\"1\" class=\"dataframe\">\n",
       "  <thead>\n",
       "    <tr style=\"text-align: right;\">\n",
       "      <th></th>\n",
       "      <th>PassengerId</th>\n",
       "      <th>Survived</th>\n",
       "      <th>Pclass</th>\n",
       "      <th>Name</th>\n",
       "      <th>Sex</th>\n",
       "      <th>Age</th>\n",
       "      <th>SibSp</th>\n",
       "      <th>Parch</th>\n",
       "      <th>Ticket</th>\n",
       "      <th>Fare</th>\n",
       "      <th>Cabin</th>\n",
       "      <th>Embarked</th>\n",
       "    </tr>\n",
       "  </thead>\n",
       "  <tbody>\n",
       "    <tr>\n",
       "      <th>0</th>\n",
       "      <td>1</td>\n",
       "      <td>0</td>\n",
       "      <td>3</td>\n",
       "      <td>Braund, Mr. Owen Harris</td>\n",
       "      <td>male</td>\n",
       "      <td>22.0</td>\n",
       "      <td>1</td>\n",
       "      <td>0</td>\n",
       "      <td>A/5 21171</td>\n",
       "      <td>7.2500</td>\n",
       "      <td>NaN</td>\n",
       "      <td>S</td>\n",
       "    </tr>\n",
       "    <tr>\n",
       "      <th>1</th>\n",
       "      <td>2</td>\n",
       "      <td>1</td>\n",
       "      <td>1</td>\n",
       "      <td>Cumings, Mrs. John Bradley (Florence Briggs Th...</td>\n",
       "      <td>female</td>\n",
       "      <td>38.0</td>\n",
       "      <td>1</td>\n",
       "      <td>0</td>\n",
       "      <td>PC 17599</td>\n",
       "      <td>71.2833</td>\n",
       "      <td>C85</td>\n",
       "      <td>C</td>\n",
       "    </tr>\n",
       "    <tr>\n",
       "      <th>2</th>\n",
       "      <td>3</td>\n",
       "      <td>1</td>\n",
       "      <td>3</td>\n",
       "      <td>Heikkinen, Miss. Laina</td>\n",
       "      <td>female</td>\n",
       "      <td>26.0</td>\n",
       "      <td>0</td>\n",
       "      <td>0</td>\n",
       "      <td>STON/O2. 3101282</td>\n",
       "      <td>7.9250</td>\n",
       "      <td>NaN</td>\n",
       "      <td>S</td>\n",
       "    </tr>\n",
       "    <tr>\n",
       "      <th>3</th>\n",
       "      <td>4</td>\n",
       "      <td>1</td>\n",
       "      <td>1</td>\n",
       "      <td>Futrelle, Mrs. Jacques Heath (Lily May Peel)</td>\n",
       "      <td>female</td>\n",
       "      <td>35.0</td>\n",
       "      <td>1</td>\n",
       "      <td>0</td>\n",
       "      <td>113803</td>\n",
       "      <td>53.1000</td>\n",
       "      <td>C123</td>\n",
       "      <td>S</td>\n",
       "    </tr>\n",
       "    <tr>\n",
       "      <th>4</th>\n",
       "      <td>5</td>\n",
       "      <td>0</td>\n",
       "      <td>3</td>\n",
       "      <td>Allen, Mr. William Henry</td>\n",
       "      <td>male</td>\n",
       "      <td>35.0</td>\n",
       "      <td>0</td>\n",
       "      <td>0</td>\n",
       "      <td>373450</td>\n",
       "      <td>8.0500</td>\n",
       "      <td>NaN</td>\n",
       "      <td>S</td>\n",
       "    </tr>\n",
       "    <tr>\n",
       "      <th>5</th>\n",
       "      <td>6</td>\n",
       "      <td>0</td>\n",
       "      <td>3</td>\n",
       "      <td>Moran, Mr. James</td>\n",
       "      <td>male</td>\n",
       "      <td>NaN</td>\n",
       "      <td>0</td>\n",
       "      <td>0</td>\n",
       "      <td>330877</td>\n",
       "      <td>8.4583</td>\n",
       "      <td>NaN</td>\n",
       "      <td>Q</td>\n",
       "    </tr>\n",
       "    <tr>\n",
       "      <th>6</th>\n",
       "      <td>7</td>\n",
       "      <td>0</td>\n",
       "      <td>1</td>\n",
       "      <td>McCarthy, Mr. Timothy J</td>\n",
       "      <td>male</td>\n",
       "      <td>54.0</td>\n",
       "      <td>0</td>\n",
       "      <td>0</td>\n",
       "      <td>17463</td>\n",
       "      <td>51.8625</td>\n",
       "      <td>E46</td>\n",
       "      <td>S</td>\n",
       "    </tr>\n",
       "    <tr>\n",
       "      <th>7</th>\n",
       "      <td>8</td>\n",
       "      <td>0</td>\n",
       "      <td>3</td>\n",
       "      <td>Palsson, Master. Gosta Leonard</td>\n",
       "      <td>male</td>\n",
       "      <td>2.0</td>\n",
       "      <td>3</td>\n",
       "      <td>1</td>\n",
       "      <td>349909</td>\n",
       "      <td>21.0750</td>\n",
       "      <td>NaN</td>\n",
       "      <td>S</td>\n",
       "    </tr>\n",
       "    <tr>\n",
       "      <th>8</th>\n",
       "      <td>9</td>\n",
       "      <td>1</td>\n",
       "      <td>3</td>\n",
       "      <td>Johnson, Mrs. Oscar W (Elisabeth Vilhelmina Berg)</td>\n",
       "      <td>female</td>\n",
       "      <td>27.0</td>\n",
       "      <td>0</td>\n",
       "      <td>2</td>\n",
       "      <td>347742</td>\n",
       "      <td>11.1333</td>\n",
       "      <td>NaN</td>\n",
       "      <td>S</td>\n",
       "    </tr>\n",
       "    <tr>\n",
       "      <th>9</th>\n",
       "      <td>10</td>\n",
       "      <td>1</td>\n",
       "      <td>2</td>\n",
       "      <td>Nasser, Mrs. Nicholas (Adele Achem)</td>\n",
       "      <td>female</td>\n",
       "      <td>14.0</td>\n",
       "      <td>1</td>\n",
       "      <td>0</td>\n",
       "      <td>237736</td>\n",
       "      <td>30.0708</td>\n",
       "      <td>NaN</td>\n",
       "      <td>C</td>\n",
       "    </tr>\n",
       "  </tbody>\n",
       "</table>\n",
       "</div>"
      ],
      "text/plain": [
       "   PassengerId  Survived  Pclass  \\\n",
       "0            1         0       3   \n",
       "1            2         1       1   \n",
       "2            3         1       3   \n",
       "3            4         1       1   \n",
       "4            5         0       3   \n",
       "5            6         0       3   \n",
       "6            7         0       1   \n",
       "7            8         0       3   \n",
       "8            9         1       3   \n",
       "9           10         1       2   \n",
       "\n",
       "                                                Name     Sex   Age  SibSp  \\\n",
       "0                            Braund, Mr. Owen Harris    male  22.0      1   \n",
       "1  Cumings, Mrs. John Bradley (Florence Briggs Th...  female  38.0      1   \n",
       "2                             Heikkinen, Miss. Laina  female  26.0      0   \n",
       "3       Futrelle, Mrs. Jacques Heath (Lily May Peel)  female  35.0      1   \n",
       "4                           Allen, Mr. William Henry    male  35.0      0   \n",
       "5                                   Moran, Mr. James    male   NaN      0   \n",
       "6                            McCarthy, Mr. Timothy J    male  54.0      0   \n",
       "7                     Palsson, Master. Gosta Leonard    male   2.0      3   \n",
       "8  Johnson, Mrs. Oscar W (Elisabeth Vilhelmina Berg)  female  27.0      0   \n",
       "9                Nasser, Mrs. Nicholas (Adele Achem)  female  14.0      1   \n",
       "\n",
       "   Parch            Ticket     Fare Cabin Embarked  \n",
       "0      0         A/5 21171   7.2500   NaN        S  \n",
       "1      0          PC 17599  71.2833   C85        C  \n",
       "2      0  STON/O2. 3101282   7.9250   NaN        S  \n",
       "3      0            113803  53.1000  C123        S  \n",
       "4      0            373450   8.0500   NaN        S  \n",
       "5      0            330877   8.4583   NaN        Q  \n",
       "6      0             17463  51.8625   E46        S  \n",
       "7      1            349909  21.0750   NaN        S  \n",
       "8      2            347742  11.1333   NaN        S  \n",
       "9      0            237736  30.0708   NaN        C  "
      ]
     },
     "execution_count": 55,
     "metadata": {},
     "output_type": "execute_result"
    }
   ],
   "source": [
    "train_df.head(10)"
   ]
  },
  {
   "cell_type": "code",
   "execution_count": 56,
   "metadata": {},
   "outputs": [
    {
     "data": {
      "text/html": [
       "<div>\n",
       "<style scoped>\n",
       "    .dataframe tbody tr th:only-of-type {\n",
       "        vertical-align: middle;\n",
       "    }\n",
       "\n",
       "    .dataframe tbody tr th {\n",
       "        vertical-align: top;\n",
       "    }\n",
       "\n",
       "    .dataframe thead th {\n",
       "        text-align: right;\n",
       "    }\n",
       "</style>\n",
       "<table border=\"1\" class=\"dataframe\">\n",
       "  <thead>\n",
       "    <tr style=\"text-align: right;\">\n",
       "      <th></th>\n",
       "      <th>PassengerId</th>\n",
       "      <th>Survived</th>\n",
       "      <th>Pclass</th>\n",
       "      <th>Age</th>\n",
       "      <th>SibSp</th>\n",
       "      <th>Parch</th>\n",
       "      <th>Fare</th>\n",
       "    </tr>\n",
       "  </thead>\n",
       "  <tbody>\n",
       "    <tr>\n",
       "      <th>count</th>\n",
       "      <td>891.000000</td>\n",
       "      <td>891.000000</td>\n",
       "      <td>891.000000</td>\n",
       "      <td>714.000000</td>\n",
       "      <td>891.000000</td>\n",
       "      <td>891.000000</td>\n",
       "      <td>891.000000</td>\n",
       "    </tr>\n",
       "    <tr>\n",
       "      <th>mean</th>\n",
       "      <td>446.000000</td>\n",
       "      <td>0.383838</td>\n",
       "      <td>2.308642</td>\n",
       "      <td>29.699118</td>\n",
       "      <td>0.523008</td>\n",
       "      <td>0.381594</td>\n",
       "      <td>32.204208</td>\n",
       "    </tr>\n",
       "    <tr>\n",
       "      <th>std</th>\n",
       "      <td>257.353842</td>\n",
       "      <td>0.486592</td>\n",
       "      <td>0.836071</td>\n",
       "      <td>14.526497</td>\n",
       "      <td>1.102743</td>\n",
       "      <td>0.806057</td>\n",
       "      <td>49.693429</td>\n",
       "    </tr>\n",
       "    <tr>\n",
       "      <th>min</th>\n",
       "      <td>1.000000</td>\n",
       "      <td>0.000000</td>\n",
       "      <td>1.000000</td>\n",
       "      <td>0.420000</td>\n",
       "      <td>0.000000</td>\n",
       "      <td>0.000000</td>\n",
       "      <td>0.000000</td>\n",
       "    </tr>\n",
       "    <tr>\n",
       "      <th>25%</th>\n",
       "      <td>223.500000</td>\n",
       "      <td>0.000000</td>\n",
       "      <td>2.000000</td>\n",
       "      <td>20.125000</td>\n",
       "      <td>0.000000</td>\n",
       "      <td>0.000000</td>\n",
       "      <td>7.910400</td>\n",
       "    </tr>\n",
       "    <tr>\n",
       "      <th>50%</th>\n",
       "      <td>446.000000</td>\n",
       "      <td>0.000000</td>\n",
       "      <td>3.000000</td>\n",
       "      <td>28.000000</td>\n",
       "      <td>0.000000</td>\n",
       "      <td>0.000000</td>\n",
       "      <td>14.454200</td>\n",
       "    </tr>\n",
       "    <tr>\n",
       "      <th>75%</th>\n",
       "      <td>668.500000</td>\n",
       "      <td>1.000000</td>\n",
       "      <td>3.000000</td>\n",
       "      <td>38.000000</td>\n",
       "      <td>1.000000</td>\n",
       "      <td>0.000000</td>\n",
       "      <td>31.000000</td>\n",
       "    </tr>\n",
       "    <tr>\n",
       "      <th>max</th>\n",
       "      <td>891.000000</td>\n",
       "      <td>1.000000</td>\n",
       "      <td>3.000000</td>\n",
       "      <td>80.000000</td>\n",
       "      <td>8.000000</td>\n",
       "      <td>6.000000</td>\n",
       "      <td>512.329200</td>\n",
       "    </tr>\n",
       "  </tbody>\n",
       "</table>\n",
       "</div>"
      ],
      "text/plain": [
       "       PassengerId    Survived      Pclass         Age       SibSp  \\\n",
       "count   891.000000  891.000000  891.000000  714.000000  891.000000   \n",
       "mean    446.000000    0.383838    2.308642   29.699118    0.523008   \n",
       "std     257.353842    0.486592    0.836071   14.526497    1.102743   \n",
       "min       1.000000    0.000000    1.000000    0.420000    0.000000   \n",
       "25%     223.500000    0.000000    2.000000   20.125000    0.000000   \n",
       "50%     446.000000    0.000000    3.000000   28.000000    0.000000   \n",
       "75%     668.500000    1.000000    3.000000   38.000000    1.000000   \n",
       "max     891.000000    1.000000    3.000000   80.000000    8.000000   \n",
       "\n",
       "            Parch        Fare  \n",
       "count  891.000000  891.000000  \n",
       "mean     0.381594   32.204208  \n",
       "std      0.806057   49.693429  \n",
       "min      0.000000    0.000000  \n",
       "25%      0.000000    7.910400  \n",
       "50%      0.000000   14.454200  \n",
       "75%      0.000000   31.000000  \n",
       "max      6.000000  512.329200  "
      ]
     },
     "execution_count": 56,
     "metadata": {},
     "output_type": "execute_result"
    }
   ],
   "source": [
    "train_df.describe()"
   ]
  },
  {
   "cell_type": "code",
   "execution_count": 57,
   "metadata": {},
   "outputs": [
    {
     "name": "stdout",
     "output_type": "stream",
     "text": [
      "Survived: {0, 1}\n",
      "Pclass: {1, 2, 3}\n",
      "SibSp: {0, 1, 2, 3, 4, 5, 8}\n",
      "Parch: {0, 1, 2, 3, 4, 5, 6}\n",
      "Fare: {0.0, 512.3292, 4.0125, 5.0, 6.975, 7.925, 8.05, 7.25, 8.4583, 11.1333, 7.8542, 13.0, 7.225, 8.0292, 16.7, 16.0, 18.0, 11.2417, 15.5, 21.075, 21.0, 21.6792, 17.8, 20.575, 26.55, 26.0, 27.7208, 29.125, 30.0708, 31.275, 31.3875, 27.75, 27.9, 35.5, 7.75, 29.0, 34.375, 39.6875, 34.6542, 41.5792, 7.1417, 36.75, 7.7958, 7.3125, 46.9, 9.0, 9.5, 47.1, 50.0, 51.8625, 10.5, 53.1, 52.0, 55.0, 56.4958, 11.5, 52.5542, 56.9292, 57.9792, 61.9792, 61.175, 63.3583, 61.3792, 12.875, 66.6, 13.5, 12.0, 69.55, 69.3, 71.2833, 14.4542, 73.5, 14.5, 14.0, 76.7292, 77.2875, 15.0458, 79.2, 80.0, 16.1, 82.1708, 83.475, 15.75, 76.2917, 86.5, 79.65, 83.1583, 81.8583, 90.0, 18.7875, 91.0792, 18.75, 89.1042, 93.5, 19.5, 19.2583, 7.2292, 20.525, 20.2125, 20.25, 7.7292, 106.425, 13.8583, 108.9, 110.8833, 22.3583, 22.025, 113.275, 22.525, 23.0, 23.25, 120.0, 24.15, 24.0, 25.5875, 25.9292, 26.25, 26.2875, 133.65, 134.5, 135.6333, 27.0, 8.6833, 14.1083, 28.7125, 28.5, 146.5208, 30.6958, 151.55, 153.4625, 30.5, 30.0, 6.75, 31.0, 6.4375, 32.5, 32.3208, 7.65, 7.775, 164.8667, 33.5, 33.0, 8.7125, 10.1708, 34.0208, 9.8375, 9.5875, 35.0, 10.4625, 7.125, 7.875, 37.0042, 12.525, 12.275, 12.65, 38.5, 13.7917, 13.4167, 39.0, 39.6, 14.4, 39.4, 40.125, 15.9, 211.5, 42.4, 211.3375, 221.7792, 6.2375, 17.4, 227.525, 7.8792, 7.8, 7.05, 7.55, 7.6292, 7.7375, 8.3625, 8.3, 247.5208, 49.5042, 49.5, 50.4958, 51.4792, 262.375, 263.0, 55.4417, 55.9, 57.0, 8.1583, 8.6542, 8.4042, 8.1125, 59.4, 9.825, 9.2167, 8.4333, 9.8417, 8.1375, 9.4833, 9.8458, 13.8625, 65.0, 15.2458, 15.05, 15.55, 6.4958, 19.9667, 6.45, 6.95, 7.4958, 7.8875, 71.0, 23.45, 75.25, 15.0, 25.925, 25.4667, 26.2833, 77.9583, 26.3875, 78.85, 78.2667, 29.7, 7.8292, 7.7875, 7.725, 7.0542, 7.7417, 8.6625, 8.85, 9.475, 9.35, 9.225, 8.5167, 6.8583, 12.475, 12.35, 12.2875, 14.4583, 15.85, 15.7417, 15.1, 7.7333, 7.0458, 10.5167, 7.8958, 7.5208}\n",
      "Embarked: {'C', nan, 'Q', 'S'}\n"
     ]
    }
   ],
   "source": [
    "print('Survived: ' + str(set(train_df['Survived'])))\n",
    "print('Pclass: ' + str(set(train_df['Pclass'])))\n",
    "print('SibSp: ' + str(set(train_df['SibSp'])))\n",
    "print('Parch: ' + str(set(train_df['Parch'])))\n",
    "print('Fare: ' + str(set(train_df['Fare'])))\n",
    "print('Embarked: ' + str(set(train_df['Embarked'])))\n"
   ]
  },
  {
   "cell_type": "markdown",
   "metadata": {},
   "source": [
    "# Подготовка данных\n",
    "Проверяем пустые значения. Смотрим в каких колонках и как много."
   ]
  },
  {
   "cell_type": "code",
   "execution_count": 58,
   "metadata": {},
   "outputs": [
    {
     "data": {
      "text/plain": [
       "Age         177\n",
       "Cabin       687\n",
       "Embarked      2\n",
       "dtype: int64"
      ]
     },
     "execution_count": 58,
     "metadata": {},
     "output_type": "execute_result"
    }
   ],
   "source": [
    "null_value_stats = train_df.isnull().sum(axis=0)\n",
    "null_value_stats[null_value_stats != 0]"
   ]
  },
  {
   "cell_type": "markdown",
   "metadata": {},
   "source": [
    "Если много пустых значений, то это запутает модель. Нужно выбрать решение:\n",
    "- Удалить строки\n",
    "- Проанализировать и заполнить на сонове косвенных данных\n",
    "- Заполнить таким значением, чтобы это не повлияло"
   ]
  },
  {
   "cell_type": "markdown",
   "metadata": {},
   "source": [
    "Поле 'Embarked'"
   ]
  },
  {
   "cell_type": "code",
   "execution_count": 59,
   "metadata": {},
   "outputs": [
    {
     "data": {
      "text/html": [
       "<div>\n",
       "<style scoped>\n",
       "    .dataframe tbody tr th:only-of-type {\n",
       "        vertical-align: middle;\n",
       "    }\n",
       "\n",
       "    .dataframe tbody tr th {\n",
       "        vertical-align: top;\n",
       "    }\n",
       "\n",
       "    .dataframe thead th {\n",
       "        text-align: right;\n",
       "    }\n",
       "</style>\n",
       "<table border=\"1\" class=\"dataframe\">\n",
       "  <thead>\n",
       "    <tr style=\"text-align: right;\">\n",
       "      <th></th>\n",
       "      <th>PassengerId</th>\n",
       "      <th>Survived</th>\n",
       "      <th>Pclass</th>\n",
       "      <th>Name</th>\n",
       "      <th>Sex</th>\n",
       "      <th>Age</th>\n",
       "      <th>SibSp</th>\n",
       "      <th>Parch</th>\n",
       "      <th>Ticket</th>\n",
       "      <th>Fare</th>\n",
       "      <th>Cabin</th>\n",
       "      <th>Embarked</th>\n",
       "    </tr>\n",
       "  </thead>\n",
       "  <tbody>\n",
       "    <tr>\n",
       "      <th>61</th>\n",
       "      <td>62</td>\n",
       "      <td>1</td>\n",
       "      <td>1</td>\n",
       "      <td>Icard, Miss. Amelie</td>\n",
       "      <td>female</td>\n",
       "      <td>38.0</td>\n",
       "      <td>0</td>\n",
       "      <td>0</td>\n",
       "      <td>113572</td>\n",
       "      <td>80.0</td>\n",
       "      <td>B28</td>\n",
       "      <td>NaN</td>\n",
       "    </tr>\n",
       "    <tr>\n",
       "      <th>829</th>\n",
       "      <td>830</td>\n",
       "      <td>1</td>\n",
       "      <td>1</td>\n",
       "      <td>Stone, Mrs. George Nelson (Martha Evelyn)</td>\n",
       "      <td>female</td>\n",
       "      <td>62.0</td>\n",
       "      <td>0</td>\n",
       "      <td>0</td>\n",
       "      <td>113572</td>\n",
       "      <td>80.0</td>\n",
       "      <td>B28</td>\n",
       "      <td>NaN</td>\n",
       "    </tr>\n",
       "  </tbody>\n",
       "</table>\n",
       "</div>"
      ],
      "text/plain": [
       "     PassengerId  Survived  Pclass                                       Name  \\\n",
       "61            62         1       1                        Icard, Miss. Amelie   \n",
       "829          830         1       1  Stone, Mrs. George Nelson (Martha Evelyn)   \n",
       "\n",
       "        Sex   Age  SibSp  Parch  Ticket  Fare Cabin Embarked  \n",
       "61   female  38.0      0      0  113572  80.0   B28      NaN  \n",
       "829  female  62.0      0      0  113572  80.0   B28      NaN  "
      ]
     },
     "execution_count": 59,
     "metadata": {},
     "output_type": "execute_result"
    }
   ],
   "source": [
    "train_df[train_df['Embarked'].isna()]"
   ]
  },
  {
   "cell_type": "code",
   "execution_count": 60,
   "metadata": {},
   "outputs": [
    {
     "name": "stdout",
     "output_type": "stream",
     "text": [
      "  Embark  Count\n",
      "0      S    644\n",
      "1      C    168\n",
      "2      Q     77\n"
     ]
    }
   ],
   "source": [
    "embarked_values_count = train_df['Embarked'].value_counts().reset_index()\n",
    "embarked_values_count.columns = ['Embark', 'Count']\n",
    "\n",
    "print(embarked_values_count)"
   ]
  },
  {
   "cell_type": "markdown",
   "metadata": {},
   "source": [
    "Пропущено всего 2 значения. Какое бы значение мы не применили, это не сильно повлияет на результат. Заменим пустые на самое распространенное значение."
   ]
  },
  {
   "cell_type": "code",
   "execution_count": 61,
   "metadata": {},
   "outputs": [],
   "source": [
    "train_df['Embarked'] = train_df['Embarked'].fillna('S')"
   ]
  },
  {
   "cell_type": "code",
   "execution_count": 62,
   "metadata": {},
   "outputs": [
    {
     "data": {
      "text/html": [
       "<div>\n",
       "<style scoped>\n",
       "    .dataframe tbody tr th:only-of-type {\n",
       "        vertical-align: middle;\n",
       "    }\n",
       "\n",
       "    .dataframe tbody tr th {\n",
       "        vertical-align: top;\n",
       "    }\n",
       "\n",
       "    .dataframe thead th {\n",
       "        text-align: right;\n",
       "    }\n",
       "</style>\n",
       "<table border=\"1\" class=\"dataframe\">\n",
       "  <thead>\n",
       "    <tr style=\"text-align: right;\">\n",
       "      <th></th>\n",
       "      <th>PassengerId</th>\n",
       "      <th>Survived</th>\n",
       "      <th>Pclass</th>\n",
       "      <th>Name</th>\n",
       "      <th>Sex</th>\n",
       "      <th>Age</th>\n",
       "      <th>SibSp</th>\n",
       "      <th>Parch</th>\n",
       "      <th>Ticket</th>\n",
       "      <th>Fare</th>\n",
       "      <th>Cabin</th>\n",
       "      <th>Embarked</th>\n",
       "    </tr>\n",
       "  </thead>\n",
       "  <tbody>\n",
       "    <tr>\n",
       "      <th>475</th>\n",
       "      <td>476</td>\n",
       "      <td>0</td>\n",
       "      <td>1</td>\n",
       "      <td>Clifford, Mr. George Quincy</td>\n",
       "      <td>male</td>\n",
       "      <td>NaN</td>\n",
       "      <td>0</td>\n",
       "      <td>0</td>\n",
       "      <td>110465</td>\n",
       "      <td>52.00</td>\n",
       "      <td>A14</td>\n",
       "      <td>S</td>\n",
       "    </tr>\n",
       "    <tr>\n",
       "      <th>507</th>\n",
       "      <td>508</td>\n",
       "      <td>1</td>\n",
       "      <td>1</td>\n",
       "      <td>Bradley, Mr. George (\"George Arthur Brayton\")</td>\n",
       "      <td>male</td>\n",
       "      <td>NaN</td>\n",
       "      <td>0</td>\n",
       "      <td>0</td>\n",
       "      <td>111427</td>\n",
       "      <td>26.55</td>\n",
       "      <td>NaN</td>\n",
       "      <td>S</td>\n",
       "    </tr>\n",
       "    <tr>\n",
       "      <th>633</th>\n",
       "      <td>634</td>\n",
       "      <td>0</td>\n",
       "      <td>1</td>\n",
       "      <td>Parr, Mr. William Henry Marsh</td>\n",
       "      <td>male</td>\n",
       "      <td>NaN</td>\n",
       "      <td>0</td>\n",
       "      <td>0</td>\n",
       "      <td>112052</td>\n",
       "      <td>0.00</td>\n",
       "      <td>NaN</td>\n",
       "      <td>S</td>\n",
       "    </tr>\n",
       "    <tr>\n",
       "      <th>815</th>\n",
       "      <td>816</td>\n",
       "      <td>0</td>\n",
       "      <td>1</td>\n",
       "      <td>Fry, Mr. Richard</td>\n",
       "      <td>male</td>\n",
       "      <td>NaN</td>\n",
       "      <td>0</td>\n",
       "      <td>0</td>\n",
       "      <td>112058</td>\n",
       "      <td>0.00</td>\n",
       "      <td>B102</td>\n",
       "      <td>S</td>\n",
       "    </tr>\n",
       "    <tr>\n",
       "      <th>766</th>\n",
       "      <td>767</td>\n",
       "      <td>0</td>\n",
       "      <td>1</td>\n",
       "      <td>Brewe, Dr. Arthur Jackson</td>\n",
       "      <td>male</td>\n",
       "      <td>NaN</td>\n",
       "      <td>0</td>\n",
       "      <td>0</td>\n",
       "      <td>112379</td>\n",
       "      <td>39.60</td>\n",
       "      <td>NaN</td>\n",
       "      <td>C</td>\n",
       "    </tr>\n",
       "    <tr>\n",
       "      <th>...</th>\n",
       "      <td>...</td>\n",
       "      <td>...</td>\n",
       "      <td>...</td>\n",
       "      <td>...</td>\n",
       "      <td>...</td>\n",
       "      <td>...</td>\n",
       "      <td>...</td>\n",
       "      <td>...</td>\n",
       "      <td>...</td>\n",
       "      <td>...</td>\n",
       "      <td>...</td>\n",
       "      <td>...</td>\n",
       "    </tr>\n",
       "    <tr>\n",
       "      <th>563</th>\n",
       "      <td>564</td>\n",
       "      <td>0</td>\n",
       "      <td>3</td>\n",
       "      <td>Simmons, Mr. John</td>\n",
       "      <td>male</td>\n",
       "      <td>NaN</td>\n",
       "      <td>0</td>\n",
       "      <td>0</td>\n",
       "      <td>SOTON/OQ 392082</td>\n",
       "      <td>8.05</td>\n",
       "      <td>NaN</td>\n",
       "      <td>S</td>\n",
       "    </tr>\n",
       "    <tr>\n",
       "      <th>87</th>\n",
       "      <td>88</td>\n",
       "      <td>0</td>\n",
       "      <td>3</td>\n",
       "      <td>Slocovski, Mr. Selman Francis</td>\n",
       "      <td>male</td>\n",
       "      <td>NaN</td>\n",
       "      <td>0</td>\n",
       "      <td>0</td>\n",
       "      <td>SOTON/OQ 392086</td>\n",
       "      <td>8.05</td>\n",
       "      <td>NaN</td>\n",
       "      <td>S</td>\n",
       "    </tr>\n",
       "    <tr>\n",
       "      <th>783</th>\n",
       "      <td>784</td>\n",
       "      <td>0</td>\n",
       "      <td>3</td>\n",
       "      <td>Johnston, Mr. Andrew G</td>\n",
       "      <td>male</td>\n",
       "      <td>NaN</td>\n",
       "      <td>1</td>\n",
       "      <td>2</td>\n",
       "      <td>W./C. 6607</td>\n",
       "      <td>23.45</td>\n",
       "      <td>NaN</td>\n",
       "      <td>S</td>\n",
       "    </tr>\n",
       "    <tr>\n",
       "      <th>888</th>\n",
       "      <td>889</td>\n",
       "      <td>0</td>\n",
       "      <td>3</td>\n",
       "      <td>Johnston, Miss. Catherine Helen \"Carrie\"</td>\n",
       "      <td>female</td>\n",
       "      <td>NaN</td>\n",
       "      <td>1</td>\n",
       "      <td>2</td>\n",
       "      <td>W./C. 6607</td>\n",
       "      <td>23.45</td>\n",
       "      <td>NaN</td>\n",
       "      <td>S</td>\n",
       "    </tr>\n",
       "    <tr>\n",
       "      <th>235</th>\n",
       "      <td>236</td>\n",
       "      <td>0</td>\n",
       "      <td>3</td>\n",
       "      <td>Harknett, Miss. Alice Phoebe</td>\n",
       "      <td>female</td>\n",
       "      <td>NaN</td>\n",
       "      <td>0</td>\n",
       "      <td>0</td>\n",
       "      <td>W./C. 6609</td>\n",
       "      <td>7.55</td>\n",
       "      <td>NaN</td>\n",
       "      <td>S</td>\n",
       "    </tr>\n",
       "  </tbody>\n",
       "</table>\n",
       "<p>177 rows × 12 columns</p>\n",
       "</div>"
      ],
      "text/plain": [
       "     PassengerId  Survived  Pclass  \\\n",
       "475          476         0       1   \n",
       "507          508         1       1   \n",
       "633          634         0       1   \n",
       "815          816         0       1   \n",
       "766          767         0       1   \n",
       "..           ...       ...     ...   \n",
       "563          564         0       3   \n",
       "87            88         0       3   \n",
       "783          784         0       3   \n",
       "888          889         0       3   \n",
       "235          236         0       3   \n",
       "\n",
       "                                              Name     Sex  Age  SibSp  Parch  \\\n",
       "475                    Clifford, Mr. George Quincy    male  NaN      0      0   \n",
       "507  Bradley, Mr. George (\"George Arthur Brayton\")    male  NaN      0      0   \n",
       "633                  Parr, Mr. William Henry Marsh    male  NaN      0      0   \n",
       "815                               Fry, Mr. Richard    male  NaN      0      0   \n",
       "766                      Brewe, Dr. Arthur Jackson    male  NaN      0      0   \n",
       "..                                             ...     ...  ...    ...    ...   \n",
       "563                              Simmons, Mr. John    male  NaN      0      0   \n",
       "87                   Slocovski, Mr. Selman Francis    male  NaN      0      0   \n",
       "783                         Johnston, Mr. Andrew G    male  NaN      1      2   \n",
       "888       Johnston, Miss. Catherine Helen \"Carrie\"  female  NaN      1      2   \n",
       "235                   Harknett, Miss. Alice Phoebe  female  NaN      0      0   \n",
       "\n",
       "              Ticket   Fare Cabin Embarked  \n",
       "475           110465  52.00   A14        S  \n",
       "507           111427  26.55   NaN        S  \n",
       "633           112052   0.00   NaN        S  \n",
       "815           112058   0.00  B102        S  \n",
       "766           112379  39.60   NaN        C  \n",
       "..               ...    ...   ...      ...  \n",
       "563  SOTON/OQ 392082   8.05   NaN        S  \n",
       "87   SOTON/OQ 392086   8.05   NaN        S  \n",
       "783       W./C. 6607  23.45   NaN        S  \n",
       "888       W./C. 6607  23.45   NaN        S  \n",
       "235       W./C. 6609   7.55   NaN        S  \n",
       "\n",
       "[177 rows x 12 columns]"
      ]
     },
     "execution_count": 62,
     "metadata": {},
     "output_type": "execute_result"
    }
   ],
   "source": [
    "train_df[train_df['Age'].isna()].sort_values(by='Ticket')"
   ]
  },
  {
   "cell_type": "markdown",
   "metadata": {},
   "source": [
    "В имени может присутствовать обращение. Изучим их."
   ]
  },
  {
   "cell_type": "code",
   "execution_count": 63,
   "metadata": {},
   "outputs": [
    {
     "name": "stdout",
     "output_type": "stream",
     "text": [
      "    Honorific  Count\n",
      "0         Mr.    517\n",
      "1       Miss.    182\n",
      "2        Mrs.    125\n",
      "3     Master.     40\n",
      "4         Dr.      7\n",
      "5        Rev.      6\n",
      "6       Mlle.      2\n",
      "7      Major.      2\n",
      "8        Col.      2\n",
      "9         the      1\n",
      "10      Capt.      1\n",
      "11        Ms.      1\n",
      "12       Sir.      1\n",
      "13      Lady.      1\n",
      "14       Mme.      1\n",
      "15       Don.      1\n",
      "16  Jonkheer.      1\n"
     ]
    }
   ],
   "source": [
    "train_df['Honorific'] = train_df['Name'].str.extract(r', ([a-zA-Z]+\\.*) ')\n",
    "\n",
    "honorifics_count = train_df['Honorific'].value_counts().reset_index()\n",
    "honorifics_count.columns = ['Honorific', 'Count']\n",
    "\n",
    "print(honorifics_count)"
   ]
  },
  {
   "cell_type": "markdown",
   "metadata": {},
   "source": [
    "Master. - для детей мужского пола до 13 лет. Для усреднения приведём всех с этим обращением и пустым возрастом к 7 годам.\\\n",
    "Miss. - для незамужних девушек. Приведём к 9.\\\n",
    "\\\n",
    "Средняя продолжитльность жизни в Великобритании в 1912:\\\n",
    "Мужчины: ~48 лет\\\n",
    "Женщины: ~52 лет\\\n",
    "\\\n",
    "Mrs. - замужняя женщина. Приведём к 36.\\\n",
    "Mr. - женатый мужчина. Приведём к 34.\\\n",
    "\\\n",
    "Остальных - приведём к 30."
   ]
  },
  {
   "cell_type": "code",
   "execution_count": 64,
   "metadata": {},
   "outputs": [],
   "source": [
    "age_fix = {\n",
    "    'Master.': 7,\n",
    "    'Miss.': 9,\n",
    "    'Mrs.': 36,\n",
    "    'Mr.': 34\n",
    "}\n",
    "\n",
    "train_df['Age'] = train_df['Honorific'].map(age_fix).fillna(train_df['Age'])\n",
    "\n",
    "age_is_null = train_df['Age'].isnull()\n",
    "train_df.loc[age_is_null, 'Age'] = 30"
   ]
  },
  {
   "cell_type": "markdown",
   "metadata": {},
   "source": [
    "Удалим колонку 'Honorific'."
   ]
  },
  {
   "cell_type": "code",
   "execution_count": 65,
   "metadata": {},
   "outputs": [],
   "source": [
    "train_df.drop('Honorific', axis=1, inplace=True)"
   ]
  },
  {
   "cell_type": "markdown",
   "metadata": {},
   "source": [
    "Изучим колонку 'Cabin'."
   ]
  },
  {
   "cell_type": "code",
   "execution_count": 66,
   "metadata": {},
   "outputs": [
    {
     "data": {
      "text/html": [
       "<div>\n",
       "<style scoped>\n",
       "    .dataframe tbody tr th:only-of-type {\n",
       "        vertical-align: middle;\n",
       "    }\n",
       "\n",
       "    .dataframe tbody tr th {\n",
       "        vertical-align: top;\n",
       "    }\n",
       "\n",
       "    .dataframe thead th {\n",
       "        text-align: right;\n",
       "    }\n",
       "</style>\n",
       "<table border=\"1\" class=\"dataframe\">\n",
       "  <thead>\n",
       "    <tr style=\"text-align: right;\">\n",
       "      <th></th>\n",
       "      <th>PassengerId</th>\n",
       "      <th>Survived</th>\n",
       "      <th>Pclass</th>\n",
       "      <th>Name</th>\n",
       "      <th>Sex</th>\n",
       "      <th>Age</th>\n",
       "      <th>SibSp</th>\n",
       "      <th>Parch</th>\n",
       "      <th>Ticket</th>\n",
       "      <th>Fare</th>\n",
       "      <th>Cabin</th>\n",
       "      <th>Embarked</th>\n",
       "    </tr>\n",
       "  </thead>\n",
       "  <tbody>\n",
       "    <tr>\n",
       "      <th>0</th>\n",
       "      <td>1</td>\n",
       "      <td>0</td>\n",
       "      <td>3</td>\n",
       "      <td>Braund, Mr. Owen Harris</td>\n",
       "      <td>male</td>\n",
       "      <td>34.0</td>\n",
       "      <td>1</td>\n",
       "      <td>0</td>\n",
       "      <td>A/5 21171</td>\n",
       "      <td>7.2500</td>\n",
       "      <td>NaN</td>\n",
       "      <td>S</td>\n",
       "    </tr>\n",
       "    <tr>\n",
       "      <th>2</th>\n",
       "      <td>3</td>\n",
       "      <td>1</td>\n",
       "      <td>3</td>\n",
       "      <td>Heikkinen, Miss. Laina</td>\n",
       "      <td>female</td>\n",
       "      <td>9.0</td>\n",
       "      <td>0</td>\n",
       "      <td>0</td>\n",
       "      <td>STON/O2. 3101282</td>\n",
       "      <td>7.9250</td>\n",
       "      <td>NaN</td>\n",
       "      <td>S</td>\n",
       "    </tr>\n",
       "    <tr>\n",
       "      <th>4</th>\n",
       "      <td>5</td>\n",
       "      <td>0</td>\n",
       "      <td>3</td>\n",
       "      <td>Allen, Mr. William Henry</td>\n",
       "      <td>male</td>\n",
       "      <td>34.0</td>\n",
       "      <td>0</td>\n",
       "      <td>0</td>\n",
       "      <td>373450</td>\n",
       "      <td>8.0500</td>\n",
       "      <td>NaN</td>\n",
       "      <td>S</td>\n",
       "    </tr>\n",
       "    <tr>\n",
       "      <th>5</th>\n",
       "      <td>6</td>\n",
       "      <td>0</td>\n",
       "      <td>3</td>\n",
       "      <td>Moran, Mr. James</td>\n",
       "      <td>male</td>\n",
       "      <td>34.0</td>\n",
       "      <td>0</td>\n",
       "      <td>0</td>\n",
       "      <td>330877</td>\n",
       "      <td>8.4583</td>\n",
       "      <td>NaN</td>\n",
       "      <td>Q</td>\n",
       "    </tr>\n",
       "    <tr>\n",
       "      <th>7</th>\n",
       "      <td>8</td>\n",
       "      <td>0</td>\n",
       "      <td>3</td>\n",
       "      <td>Palsson, Master. Gosta Leonard</td>\n",
       "      <td>male</td>\n",
       "      <td>7.0</td>\n",
       "      <td>3</td>\n",
       "      <td>1</td>\n",
       "      <td>349909</td>\n",
       "      <td>21.0750</td>\n",
       "      <td>NaN</td>\n",
       "      <td>S</td>\n",
       "    </tr>\n",
       "    <tr>\n",
       "      <th>...</th>\n",
       "      <td>...</td>\n",
       "      <td>...</td>\n",
       "      <td>...</td>\n",
       "      <td>...</td>\n",
       "      <td>...</td>\n",
       "      <td>...</td>\n",
       "      <td>...</td>\n",
       "      <td>...</td>\n",
       "      <td>...</td>\n",
       "      <td>...</td>\n",
       "      <td>...</td>\n",
       "      <td>...</td>\n",
       "    </tr>\n",
       "    <tr>\n",
       "      <th>884</th>\n",
       "      <td>885</td>\n",
       "      <td>0</td>\n",
       "      <td>3</td>\n",
       "      <td>Sutehall, Mr. Henry Jr</td>\n",
       "      <td>male</td>\n",
       "      <td>34.0</td>\n",
       "      <td>0</td>\n",
       "      <td>0</td>\n",
       "      <td>SOTON/OQ 392076</td>\n",
       "      <td>7.0500</td>\n",
       "      <td>NaN</td>\n",
       "      <td>S</td>\n",
       "    </tr>\n",
       "    <tr>\n",
       "      <th>885</th>\n",
       "      <td>886</td>\n",
       "      <td>0</td>\n",
       "      <td>3</td>\n",
       "      <td>Rice, Mrs. William (Margaret Norton)</td>\n",
       "      <td>female</td>\n",
       "      <td>36.0</td>\n",
       "      <td>0</td>\n",
       "      <td>5</td>\n",
       "      <td>382652</td>\n",
       "      <td>29.1250</td>\n",
       "      <td>NaN</td>\n",
       "      <td>Q</td>\n",
       "    </tr>\n",
       "    <tr>\n",
       "      <th>886</th>\n",
       "      <td>887</td>\n",
       "      <td>0</td>\n",
       "      <td>2</td>\n",
       "      <td>Montvila, Rev. Juozas</td>\n",
       "      <td>male</td>\n",
       "      <td>27.0</td>\n",
       "      <td>0</td>\n",
       "      <td>0</td>\n",
       "      <td>211536</td>\n",
       "      <td>13.0000</td>\n",
       "      <td>NaN</td>\n",
       "      <td>S</td>\n",
       "    </tr>\n",
       "    <tr>\n",
       "      <th>888</th>\n",
       "      <td>889</td>\n",
       "      <td>0</td>\n",
       "      <td>3</td>\n",
       "      <td>Johnston, Miss. Catherine Helen \"Carrie\"</td>\n",
       "      <td>female</td>\n",
       "      <td>9.0</td>\n",
       "      <td>1</td>\n",
       "      <td>2</td>\n",
       "      <td>W./C. 6607</td>\n",
       "      <td>23.4500</td>\n",
       "      <td>NaN</td>\n",
       "      <td>S</td>\n",
       "    </tr>\n",
       "    <tr>\n",
       "      <th>890</th>\n",
       "      <td>891</td>\n",
       "      <td>0</td>\n",
       "      <td>3</td>\n",
       "      <td>Dooley, Mr. Patrick</td>\n",
       "      <td>male</td>\n",
       "      <td>34.0</td>\n",
       "      <td>0</td>\n",
       "      <td>0</td>\n",
       "      <td>370376</td>\n",
       "      <td>7.7500</td>\n",
       "      <td>NaN</td>\n",
       "      <td>Q</td>\n",
       "    </tr>\n",
       "  </tbody>\n",
       "</table>\n",
       "<p>687 rows × 12 columns</p>\n",
       "</div>"
      ],
      "text/plain": [
       "     PassengerId  Survived  Pclass                                      Name  \\\n",
       "0              1         0       3                   Braund, Mr. Owen Harris   \n",
       "2              3         1       3                    Heikkinen, Miss. Laina   \n",
       "4              5         0       3                  Allen, Mr. William Henry   \n",
       "5              6         0       3                          Moran, Mr. James   \n",
       "7              8         0       3            Palsson, Master. Gosta Leonard   \n",
       "..           ...       ...     ...                                       ...   \n",
       "884          885         0       3                    Sutehall, Mr. Henry Jr   \n",
       "885          886         0       3      Rice, Mrs. William (Margaret Norton)   \n",
       "886          887         0       2                     Montvila, Rev. Juozas   \n",
       "888          889         0       3  Johnston, Miss. Catherine Helen \"Carrie\"   \n",
       "890          891         0       3                       Dooley, Mr. Patrick   \n",
       "\n",
       "        Sex   Age  SibSp  Parch            Ticket     Fare Cabin Embarked  \n",
       "0      male  34.0      1      0         A/5 21171   7.2500   NaN        S  \n",
       "2    female   9.0      0      0  STON/O2. 3101282   7.9250   NaN        S  \n",
       "4      male  34.0      0      0            373450   8.0500   NaN        S  \n",
       "5      male  34.0      0      0            330877   8.4583   NaN        Q  \n",
       "7      male   7.0      3      1            349909  21.0750   NaN        S  \n",
       "..      ...   ...    ...    ...               ...      ...   ...      ...  \n",
       "884    male  34.0      0      0   SOTON/OQ 392076   7.0500   NaN        S  \n",
       "885  female  36.0      0      5            382652  29.1250   NaN        Q  \n",
       "886    male  27.0      0      0            211536  13.0000   NaN        S  \n",
       "888  female   9.0      1      2        W./C. 6607  23.4500   NaN        S  \n",
       "890    male  34.0      0      0            370376   7.7500   NaN        Q  \n",
       "\n",
       "[687 rows x 12 columns]"
      ]
     },
     "execution_count": 66,
     "metadata": {},
     "output_type": "execute_result"
    }
   ],
   "source": [
    "train_df[train_df['Cabin'].isna()]"
   ]
  },
  {
   "cell_type": "markdown",
   "metadata": {},
   "source": [
    "Непонятно что с ней делать, поэтому заполним пустые ячейки таким значением, чтобы модель их игнорировала."
   ]
  },
  {
   "cell_type": "code",
   "execution_count": 67,
   "metadata": {},
   "outputs": [],
   "source": [
    "train_df.fillna(-999, inplace=True)\n",
    "test_df.fillna(-999, inplace=True)"
   ]
  },
  {
   "cell_type": "markdown",
   "metadata": {},
   "source": [
    "Ещё раз проверяем пустые. Видим, что их нет."
   ]
  },
  {
   "cell_type": "code",
   "execution_count": 68,
   "metadata": {},
   "outputs": [
    {
     "data": {
      "text/plain": [
       "Series([], dtype: int64)"
      ]
     },
     "execution_count": 68,
     "metadata": {},
     "output_type": "execute_result"
    }
   ],
   "source": [
    "null_value_stats = train_df.isnull().sum(axis=0)\n",
    "null_value_stats[null_value_stats != 0]"
   ]
  },
  {
   "cell_type": "markdown",
   "metadata": {},
   "source": [
    "Разделяем датасет для обучения на две части - данные (X) и целевая метрика (y). Модель будет учиться определять 'y'."
   ]
  },
  {
   "cell_type": "code",
   "execution_count": 69,
   "metadata": {},
   "outputs": [],
   "source": [
    "X = train_df.drop('Survived', axis=1)\n",
    "y = train_df.Survived"
   ]
  },
  {
   "cell_type": "markdown",
   "metadata": {},
   "source": [
    "Изучаем типы данных в колонках. Нужно определить, какие из них категориальные."
   ]
  },
  {
   "cell_type": "code",
   "execution_count": 70,
   "metadata": {},
   "outputs": [
    {
     "name": "stdout",
     "output_type": "stream",
     "text": [
      "PassengerId      int64\n",
      "Pclass           int64\n",
      "Name            object\n",
      "Sex             object\n",
      "Age            float64\n",
      "SibSp            int64\n",
      "Parch            int64\n",
      "Ticket          object\n",
      "Fare           float64\n",
      "Cabin           object\n",
      "Embarked        object\n",
      "dtype: object\n"
     ]
    }
   ],
   "source": [
    "print(X.dtypes)"
   ]
  },
  {
   "cell_type": "markdown",
   "metadata": {},
   "source": [
    "Категориальные данные записываем в массив 'categorical_features_indexes'.\n",
    "\n",
    "Важно! Всё, что не числовые колонки, должно быть в этом списке."
   ]
  },
  {
   "cell_type": "code",
   "execution_count": 71,
   "metadata": {},
   "outputs": [],
   "source": [
    "categoricals_list = ['Pclass', 'Sex', 'SibSp', 'Parch', 'Name', 'Ticket', 'Embarked', 'Cabin', 'PassengerId']\n",
    "# categoricals_list = ['Sex', 'Name', 'Ticket', 'Embarked', 'Cabin', 'PassengerId'] # Другой вариант\n",
    "\n",
    "categorical_features_indexes = np.array([X.columns.get_loc(col) for col in categoricals_list])"
   ]
  },
  {
   "cell_type": "markdown",
   "metadata": {},
   "source": [
    "Есть смысл игнорировать часть колонок. Ненужные поместим в отдельный список, чтобы передать в модель при обучении через параметр 'ignored_features'."
   ]
  },
  {
   "cell_type": "markdown",
   "metadata": {},
   "source": [
    "На последующих шагах, в результате нескольких обучений, получаем результат - 'Name', 'Ticket', 'Embarked', 'Cabin' - не оказывают значимого влияния:\\\n",
    "Sex: 59.35579560\\\n",
    "Fare: 12.48467673\\\n",
    "Pclass: 12.45593200\\\n",
    "SibSp: 5.78339522\\\n",
    "Parch: 5.41685146\\\n",
    "Age: 4.50334900\\\n",
    "Ticket: 0.00000000\\\n",
    "Name: 0.00000000\\\n",
    "Embarked: 0.00000000\\\n",
    "Cabin: 0.00000000\n",
    "\n",
    "Удалим колонку 'Name' - зависимость результата от имени не кажется возможной.\\\n",
    "Также поступим с 'Ticket', 'Embarked', 'Cabin'."
   ]
  },
  {
   "cell_type": "code",
   "execution_count": 72,
   "metadata": {},
   "outputs": [],
   "source": [
    "# train_df.drop('Name', axis=1, inplace=True)\n",
    "# train_df.drop('Ticket', axis=1, inplace=True)\n",
    "# train_df.drop('Embarked', axis=1, inplace=True)\n",
    "# train_df.drop('Cabin', axis=1, inplace=True)\n",
    "\n",
    "# test_df.drop('Name', axis=1, inplace=True)\n",
    "# test_df.drop('Ticket', axis=1, inplace=True)\n",
    "# test_df.drop('Embarked', axis=1, inplace=True)\n",
    "# test_df.drop('Cabin', axis=1, inplace=True)\n",
    "\n",
    "ignored_column_names = ['Name', 'Ticket', 'Embarked', 'Cabin', 'PassengerId']\n",
    "ignored_features_indexes = np.array([X.columns.get_loc(col) for col in ignored_column_names])"
   ]
  },
  {
   "cell_type": "markdown",
   "metadata": {},
   "source": [
    "# Данные для валидации\n",
    "Разделим обучающие данные на две части - для обучения и валидации."
   ]
  },
  {
   "cell_type": "code",
   "execution_count": 73,
   "metadata": {},
   "outputs": [],
   "source": [
    "X_train, X_validation, y_train, y_validation = train_test_split(\n",
    "    X\n",
    "    , y\n",
    "    , train_size=0.75\n",
    "    , random_state=42\n",
    "    , stratify=y # stratify=y означает, что делаем равномерное распределение величины 'y' - целевой метрики\n",
    "    , shuffle=True\n",
    "    )\n",
    "\n",
    "X_test = test_df"
   ]
  },
  {
   "cell_type": "markdown",
   "metadata": {},
   "source": [
    "# Обучаем модель\n",
    "Задаём параметры для обучения."
   ]
  },
  {
   "cell_type": "code",
   "execution_count": 74,
   "metadata": {},
   "outputs": [],
   "source": [
    "params = {\n",
    "    'random_seed': 42 # Если использовать одинаковый, то результат всегда будет повторяемый\n",
    "    , 'logging_level': 'Silent' # Без вывода логов\n",
    "    , 'use_best_model': True # В итоговой модели последний шаг тот, у которого лучший результат, а не тот, что в 'iterations'\n",
    "    # , 'task_type': 'GPU' # Для расчёта на GPU\n",
    "    , 'loss_function': metrics.Logloss()\n",
    "    , 'ignored_features': ignored_features_indexes\n",
    "\n",
    "    # Кол-во шагов (итераций) и скорость обучения связаны. В идеале \n",
    "    # , 'iterations': 1000 # По умолчанию 1000\n",
    "    # , 'learning_rate': 0.01 # Можно задать скорость обучения\n",
    "\n",
    "    , 'iterations': 1000\n",
    "    , 'learning_rate': 0.028682999312877655\n",
    "\n",
    "    # По этому параметру определяем лучшую модель\n",
    "    # , 'eval_metric': metrics.Accuracy() # Другой синтаксис\n",
    "    , 'eval_metric': 'Accuracy'\n",
    "    # , 'eval_metric': 'AUC'\n",
    "    # , 'eval_metric': 'F1'\n",
    "\n",
    "    # Это метрика, которую рисуем для информации на графике. НЕ влияет на выбор лучшей модели\n",
    "    , 'custom_loss':[metrics.AUC(), metrics.F1()] # Другой синтаксис\n",
    "    # , 'custom_metric':[metrics.Accuracy()] # Другой синтаксис\n",
    "\n",
    "    # Ранняя остановка - отсутствие изменений или контроль переобучения\n",
    "    # Либо 'early_stopping_rounds' либо 'od_type'+'od_wait'\n",
    "    # , 'early_stopping_rounds': 100 # Кол-во шагов\n",
    "    , 'od_type': 'Iter' # Тип - считаем шаги\n",
    "    , 'od_wait': 150 # Кол-во шагов\n",
    "}"
   ]
  },
  {
   "cell_type": "markdown",
   "metadata": {},
   "source": [
    "Pool - структура данных catboost. Формируем 2 штуки - для обучения и валидации.\\\n",
    "\\\n",
    "Дополнительно передаём в него категориальные данные - отдельно индексы, отдельно названия."
   ]
  },
  {
   "cell_type": "code",
   "execution_count": 75,
   "metadata": {},
   "outputs": [],
   "source": [
    "train_pool    = Pool(X_train,      y_train,      cat_features=categorical_features_indexes, feature_names=list(X.columns))\n",
    "validate_pool = Pool(X_validation, y_validation, cat_features=categorical_features_indexes, feature_names=list(X.columns))"
   ]
  },
  {
   "cell_type": "markdown",
   "metadata": {},
   "source": [
    "Выбираем тип обучения 'CatBoostClassifier' - это модель для классификации. Хорошо предсказывает бинарную метрику.\\\n",
    "Тут наша целевая метрика: 1 или 0, выжил или не выжил.\\\n",
    "\\\n",
    "В функцию 'CatBoostClassifier' - передаём параметры.\\\n",
    "Метод 'fit' - это запуск обучения. В него передаём Pool.\\\n",
    "\\\n",
    "Параметр 'plot' в методе 'fit' - рисует график."
   ]
  },
  {
   "cell_type": "code",
   "execution_count": 76,
   "metadata": {},
   "outputs": [
    {
     "data": {
      "application/vnd.jupyter.widget-view+json": {
       "model_id": "ac2bc66fd6ca440a89490e2ff0632570",
       "version_major": 2,
       "version_minor": 0
      },
      "text/plain": [
       "MetricVisualizer(layout=Layout(align_self='stretch', height='500px'))"
      ]
     },
     "metadata": {},
     "output_type": "display_data"
    },
    {
     "data": {
      "text/plain": [
       "<catboost.core.CatBoostClassifier at 0x2b3052031c0>"
      ]
     },
     "execution_count": 76,
     "metadata": {},
     "output_type": "execute_result"
    }
   ],
   "source": [
    "model = CatBoostClassifier(**params)\n",
    "model.fit(train_pool, eval_set=validate_pool, plot=True)"
   ]
  },
  {
   "cell_type": "markdown",
   "metadata": {},
   "source": [
    "**Модель обучена!**"
   ]
  },
  {
   "cell_type": "markdown",
   "metadata": {},
   "source": [
    "# Оценка результата обучения\n",
    "Изучим влияние колонок."
   ]
  },
  {
   "cell_type": "code",
   "execution_count": 77,
   "metadata": {},
   "outputs": [
    {
     "name": "stdout",
     "output_type": "stream",
     "text": [
      "Sex: 58.64871000\n",
      "Pclass: 22.12684557\n",
      "Fare: 10.26032564\n",
      "Age: 7.89052599\n",
      "SibSp: 1.07359281\n",
      "Ticket: 0.00000000\n",
      "PassengerId: 0.00000000\n",
      "Parch: 0.00000000\n",
      "Name: 0.00000000\n",
      "Embarked: 0.00000000\n",
      "Cabin: 0.00000000\n"
     ]
    }
   ],
   "source": [
    "feature_importances = model.get_feature_importance(train_pool)\n",
    "feature_names = X_train.columns\n",
    "for score, name in sorted(zip(feature_importances, feature_names), reverse=True):\n",
    "    print('{}: {:.8f}'.format(name, score))"
   ]
  },
  {
   "cell_type": "code",
   "execution_count": 78,
   "metadata": {},
   "outputs": [
    {
     "name": "stdout",
     "output_type": "stream",
     "text": [
      "tree_count: 11\n",
      "learning_rate: 0.028682999312877655\n",
      "best_iteration: 10\n",
      "best_score: {'learn': {'Accuracy': 0.8652694610778443, 'F1': 0.8117154811715481, 'Logloss': 0.342679299864937}, 'validation': {'Accuracy': 0.820627802690583, 'F1': 0.7468354430379746, 'Logloss': 0.4359726859111996, 'AUC': 0.8570701069427941}}\n",
      "Model validation accuracy: 0.8206\n",
      "Model f1_score: 0.7468\n",
      "Model log_loss: 6.465\n",
      "Model recall_score: 0.686\n",
      "Model roc_auc_score: 0.7956\n",
      "Model precision_score: 0.8194\n"
     ]
    }
   ],
   "source": [
    "print('tree_count: ' + str(model.tree_count_))\n",
    "print('learning_rate: ' + str(model.learning_rate_))\n",
    "print('best_iteration: ' + str(model.get_best_iteration()))\n",
    "print('best_score: ' + str(model.get_best_score()))\n",
    "\n",
    "print('Model validation accuracy: {:.4}'.format(accuracy_score(y_validation, model.predict(X_validation))))\n",
    "\n",
    "# print('Model auc: {:.4}'.format(auc(y_validation, model.predict(X_validation))))\n",
    "print('Model f1_score: {:.4}'.format(f1_score(y_validation, model.predict(X_validation))))\n",
    "print('Model log_loss: {:.4}'.format(log_loss(y_validation, model.predict(X_validation))))\n",
    "print('Model recall_score: {:.4}'.format(recall_score(y_validation, model.predict(X_validation))))\n",
    "print('Model roc_auc_score: {:.4}'.format(roc_auc_score(y_validation, model.predict(X_validation))))\n",
    "print('Model precision_score: {:.4}'.format(precision_score(y_validation, model.predict(X_validation))))\n",
    "# print('Model roc_curve: {:.4}'.format(roc_curve(y_validation, model.predict(X_validation))))"
   ]
  },
  {
   "cell_type": "markdown",
   "metadata": {},
   "source": [
    "Как модель показывает себя на валидационном датасете."
   ]
  },
  {
   "cell_type": "code",
   "execution_count": 79,
   "metadata": {},
   "outputs": [
    {
     "data": {
      "application/vnd.jupyter.widget-view+json": {
       "model_id": "864348b55fde455ca35e4718526020ee",
       "version_major": 2,
       "version_minor": 0
      },
      "text/plain": [
       "MetricVisualizer(layout=Layout(align_self='stretch', height='500px'))"
      ]
     },
     "metadata": {},
     "output_type": "display_data"
    }
   ],
   "source": [
    "# model = CatBoostClassifier(iterations=50, random_seed=42, logging_level='Silent').fit(train_pool)\n",
    "# eval_metrics = model.eval_metrics(data=validate_pool, metrics=[metrics.AUC()], plot=True)\n",
    "eval_metrics = model.eval_metrics(data=validate_pool, metrics=['Accuracy', 'AUC', 'F1', 'Logloss'], plot=True)"
   ]
  },
  {
   "cell_type": "code",
   "execution_count": 80,
   "metadata": {},
   "outputs": [],
   "source": [
    "# model.plot_tree(tree_idx=18, pool=pool) # Требует дополнительных библиотек"
   ]
  },
  {
   "cell_type": "code",
   "execution_count": 81,
   "metadata": {},
   "outputs": [],
   "source": [
    "# Можно сохранить в разных форматах\n",
    "\n",
    "# model.save_model('catboost_model.dump')\n",
    "# model.save_model('catboost_model.cbm', format='cbm')\n",
    "# model.save_model('catboost_model.json', format='json')"
   ]
  },
  {
   "cell_type": "markdown",
   "metadata": {},
   "source": [
    "# Проверим\n",
    "Обучим вторую модель с измененными параметрами и сравним их."
   ]
  },
  {
   "cell_type": "code",
   "execution_count": 82,
   "metadata": {},
   "outputs": [],
   "source": [
    "# params.update({\n",
    "#     'random_seed': 69\n",
    "# })\n",
    "\n",
    "# model2 = CatBoostClassifier(**params)\n",
    "\n",
    "# model2.fit(train_pool, eval_set=validate_pool, plot=True)"
   ]
  },
  {
   "cell_type": "code",
   "execution_count": 83,
   "metadata": {},
   "outputs": [],
   "source": [
    "# model.compare(model=model2, data=validate_pool, metrics=['Accuracy', 'AUC', 'Logloss'])"
   ]
  },
  {
   "cell_type": "markdown",
   "metadata": {},
   "source": [
    "# Кросс-валидация\n",
    "Проведём кросс-валидацию для дополнительной проверки"
   ]
  },
  {
   "cell_type": "code",
   "execution_count": 84,
   "metadata": {},
   "outputs": [],
   "source": [
    "# cv_params = model.get_params()\n",
    "\n",
    "# cv_pool = Pool(X, y, cat_features=categorical_features_indexes, feature_names=list(X.columns))\n",
    "\n",
    "# cv_data = cv(\n",
    "#     cv_pool\n",
    "#     , cv_params\n",
    "#     , plot=True\n",
    "#     , fold_count=10 # По умолчанию 3\n",
    "# )"
   ]
  },
  {
   "cell_type": "markdown",
   "metadata": {},
   "source": [
    "Сделаем несолько фолдов и посмотрим какие результаты покажут модели."
   ]
  },
  {
   "cell_type": "code",
   "execution_count": 85,
   "metadata": {},
   "outputs": [],
   "source": [
    "# print('Best validation accuracy score: {:.2f}±{:.2f} on step {}'.format(\n",
    "#     np.max(cv_data['test-Accuracy-mean']),\n",
    "#     cv_data['test-Accuracy-std'][np.argmax(cv_data['test-Accuracy-mean'])],\n",
    "#     np.argmax(cv_data['test-Accuracy-mean'])\n",
    "# ))"
   ]
  },
  {
   "cell_type": "code",
   "execution_count": 86,
   "metadata": {},
   "outputs": [],
   "source": [
    "# print('Precise validation accuracy score: {}'.format(np.max(cv_data['test-Accuracy-mean'])))"
   ]
  },
  {
   "cell_type": "markdown",
   "metadata": {},
   "source": [
    "Сравним результат кросс-валидации с первоначальным результатом."
   ]
  },
  {
   "cell_type": "markdown",
   "metadata": {},
   "source": [
    "### 2.3 Model Applying\n",
    "All you have to do to get predictions is"
   ]
  },
  {
   "cell_type": "code",
   "execution_count": 87,
   "metadata": {},
   "outputs": [
    {
     "name": "stdout",
     "output_type": "stream",
     "text": [
      "[0 1 0 0 1 1 1 0 1 0]\n",
      "[[0.63545405 0.36454595]\n",
      " [0.48559123 0.51440877]\n",
      " [0.62099267 0.37900733]\n",
      " [0.5873478  0.4126522 ]\n",
      " [0.49682747 0.50317253]\n",
      " [0.49376389 0.50623611]\n",
      " [0.46743337 0.53256663]\n",
      " [0.57647345 0.42352655]\n",
      " [0.45901277 0.54098723]\n",
      " [0.56608667 0.43391333]]\n"
     ]
    }
   ],
   "source": [
    "predictions = model.predict(X_test)\n",
    "predictions_probs = model.predict_proba(X_test)\n",
    "print(predictions[:10])\n",
    "print(predictions_probs[:10])"
   ]
  },
  {
   "cell_type": "markdown",
   "metadata": {},
   "source": [
    "### 3.10 Learning Processes Comparison\n",
    "You can also compare different models learning process on a single plot."
   ]
  },
  {
   "cell_type": "code",
   "execution_count": 88,
   "metadata": {},
   "outputs": [],
   "source": [
    "# model1 = CatBoostClassifier(iterations=100, depth=1, train_dir='model_depth_1/', logging_level='Silent')\n",
    "# model1.fit(train_pool, eval_set=validate_pool)\n",
    "# model2 = CatBoostClassifier(iterations=100, depth=5, train_dir='model_depth_5/', logging_level='Silent')\n",
    "# model2.fit(train_pool, eval_set=validate_pool);"
   ]
  },
  {
   "cell_type": "code",
   "execution_count": 89,
   "metadata": {},
   "outputs": [],
   "source": [
    "\n",
    "# widget = MetricVisualizer(['model_depth_1', 'model_depth_5'])\n",
    "# widget.start()"
   ]
  },
  {
   "cell_type": "markdown",
   "metadata": {},
   "source": [
    "# $$4.\\ Parameters\\ Tuning$$\n",
    "While you could always select optimal number of iterations (boosting steps) by cross-validation and learning curve plots, it is also important to play with some of model parameters, and we would like to pay some special attention to `l2_leaf_reg` and `learning_rate`.\n",
    "\n",
    "In this section, we'll select these parameters using the **`hyperopt`** package."
   ]
  },
  {
   "cell_type": "code",
   "execution_count": 90,
   "metadata": {},
   "outputs": [],
   "source": [
    "\n",
    "\n",
    "# def hyperopt_objective(params):\n",
    "#     model = CatBoostClassifier(\n",
    "#         l2_leaf_reg=int(params['l2_leaf_reg']),\n",
    "#         learning_rate=params['learning_rate'],\n",
    "#         iterations=500,\n",
    "#         eval_metric=metrics.Accuracy(),\n",
    "#         random_seed=42,\n",
    "#         verbose=False,\n",
    "#         loss_function=metrics.Logloss(),\n",
    "#     )\n",
    "    \n",
    "#     cv_data = cv(\n",
    "#         Pool(X, y, cat_features=categorical_features_indexes),\n",
    "#         model.get_params(),\n",
    "#         logging_level='Silent',\n",
    "#     )\n",
    "#     best_accuracy = np.max(cv_data['test-Accuracy-mean'])\n",
    "    \n",
    "#     return 1 - best_accuracy # as hyperopt minimises"
   ]
  },
  {
   "cell_type": "code",
   "execution_count": 91,
   "metadata": {},
   "outputs": [],
   "source": [
    "\n",
    "\n",
    "# params_space = {\n",
    "#     'l2_leaf_reg': hyperopt.hp.qloguniform('l2_leaf_reg', 0, 2, 1),\n",
    "#     'learning_rate': hyperopt.hp.uniform('learning_rate', 1e-3, 5e-1),\n",
    "# }\n",
    "\n",
    "# trials = hyperopt.Trials()\n",
    "\n",
    "# best = hyperopt.fmin(\n",
    "#     hyperopt_objective,\n",
    "#     space=params_space,\n",
    "#     algo=hyperopt.tpe.suggest,\n",
    "#     max_evals=50,\n",
    "#     trials=trials,\n",
    "#     rstate=default_rng(123)\n",
    "# )\n",
    "\n",
    "# print(best)"
   ]
  },
  {
   "cell_type": "markdown",
   "metadata": {},
   "source": [
    "Now let's get all cv data with best parameters:"
   ]
  },
  {
   "cell_type": "code",
   "execution_count": 92,
   "metadata": {},
   "outputs": [],
   "source": [
    "# model = CatBoostClassifier(\n",
    "#     l2_leaf_reg=int(best['l2_leaf_reg']),\n",
    "#     learning_rate=best['learning_rate'],\n",
    "#     iterations=500,\n",
    "#     eval_metric=metrics.Accuracy(),\n",
    "#     random_seed=42,\n",
    "#     verbose=False,\n",
    "#     loss_function=metrics.Logloss(),\n",
    "# )\n",
    "# cv_data = cv(Pool(X, y, cat_features=categorical_features_indexes), model.get_params())"
   ]
  },
  {
   "cell_type": "code",
   "execution_count": 93,
   "metadata": {},
   "outputs": [],
   "source": [
    "# print('Precise validation accuracy score: {}'.format(np.max(cv_data['test-Accuracy-mean'])))"
   ]
  },
  {
   "cell_type": "markdown",
   "metadata": {},
   "source": [
    "Recall that with default parameters out cv score was 0.8283, and thereby we have (probably not statistically significant) some improvement."
   ]
  },
  {
   "cell_type": "markdown",
   "metadata": {},
   "source": [
    "### Make submission\n",
    "Now we would re-train our tuned model on all train data that we have"
   ]
  },
  {
   "cell_type": "code",
   "execution_count": 94,
   "metadata": {},
   "outputs": [
    {
     "data": {
      "text/plain": [
       "<catboost.core.CatBoostClassifier at 0x2b3051aa050>"
      ]
     },
     "execution_count": 94,
     "metadata": {},
     "output_type": "execute_result"
    }
   ],
   "source": [
    "final_pool = Pool(X, y, cat_features=categorical_features_indexes, feature_names=list(X.columns))\n",
    "\n",
    "model2 = CatBoostClassifier(**params)\n",
    "model2.fit(\n",
    "    final_pool\n",
    "    , eval_set=validate_pool\n",
    "    # , plot=True\n",
    "    )"
   ]
  },
  {
   "cell_type": "code",
   "execution_count": 95,
   "metadata": {},
   "outputs": [
    {
     "name": "stdout",
     "output_type": "stream",
     "text": [
      "tree_count: 78\n",
      "Model validation accuracy: 0.843\n"
     ]
    }
   ],
   "source": [
    "print('tree_count: ' + str(model2.tree_count_))\n",
    "print('Model validation accuracy: {:.4}'.format(accuracy_score(y_validation, model2.predict(X_validation))))"
   ]
  },
  {
   "cell_type": "code",
   "execution_count": 96,
   "metadata": {},
   "outputs": [],
   "source": [
    "# model3 = CatBoostClassifier(**params)\n",
    "# model3.fit(\n",
    "#     train_pool\n",
    "#     , eval_set=validate_pool\n",
    "#     # , plot=True\n",
    "#     )"
   ]
  },
  {
   "cell_type": "code",
   "execution_count": 97,
   "metadata": {},
   "outputs": [],
   "source": [
    "# print('tree_count: ' + str(model3.tree_count_))\n",
    "# print('Model validation accuracy: {:.4}'.format(accuracy_score(y_validation, model3.predict(X_validation))))"
   ]
  },
  {
   "cell_type": "markdown",
   "metadata": {},
   "source": [
    "# Оценка результата обучения Финальной модели\n",
    "Изучим влияние колонок."
   ]
  },
  {
   "cell_type": "code",
   "execution_count": 98,
   "metadata": {},
   "outputs": [],
   "source": [
    "# feature_importances = model.get_feature_importance(train_pool)\n",
    "# feature_names = X_train.columns\n",
    "# for score, name in sorted(zip(feature_importances, feature_names), reverse=True):\n",
    "#     print('{}: {:.8f}'.format(name, score))"
   ]
  },
  {
   "cell_type": "code",
   "execution_count": 99,
   "metadata": {},
   "outputs": [],
   "source": [
    "# print('tree_count: ' + str(model.tree_count_))\n",
    "# print('learning_rate: ' + str(model.learning_rate_))\n",
    "# print('best_iteration: ' + str(model.get_best_iteration()))\n",
    "# print('best_score: ' + str(model.get_best_score()))\n",
    "\n",
    "# print('Model validation accuracy: {:.4}'.format(accuracy_score(y_validation, model.predict(X_validation))))\n",
    "\n",
    "# # print('Model auc: {:.4}'.format(auc(y_validation, model.predict(X_validation))))\n",
    "# print('Model f1_score: {:.4}'.format(f1_score(y_validation, model.predict(X_validation))))\n",
    "# print('Model log_loss: {:.4}'.format(log_loss(y_validation, model.predict(X_validation))))\n",
    "# print('Model recall_score: {:.4}'.format(recall_score(y_validation, model.predict(X_validation))))\n",
    "# print('Model roc_auc_score: {:.4}'.format(roc_auc_score(y_validation, model.predict(X_validation))))\n",
    "# print('Model precision_score: {:.4}'.format(precision_score(y_validation, model.predict(X_validation))))\n",
    "# # print('Model roc_curve: {:.4}'.format(roc_curve(y_validation, model.predict(X_validation))))"
   ]
  },
  {
   "cell_type": "markdown",
   "metadata": {},
   "source": [
    "And finally let's prepare the submission file:"
   ]
  },
  {
   "cell_type": "code",
   "execution_count": 100,
   "metadata": {},
   "outputs": [],
   "source": [
    "submisstion = pd.DataFrame()\n",
    "submisstion['PassengerId'] = X_test['PassengerId']\n",
    "submisstion['Survived'] = model2.predict(X_test)"
   ]
  },
  {
   "cell_type": "code",
   "execution_count": 101,
   "metadata": {},
   "outputs": [],
   "source": [
    "submisstion.to_csv('submission.csv', index=False)"
   ]
  },
  {
   "cell_type": "code",
   "execution_count": null,
   "metadata": {},
   "outputs": [
    {
     "name": "stdout",
     "output_type": "stream",
     "text": [
      "   PassengerId  Pclass                                          Name     Sex  \\\n",
      "0          892       3                              Kelly, Mr. James    male   \n",
      "1          893       3              Wilkes, Mrs. James (Ellen Needs)  female   \n",
      "2          894       2                     Myles, Mr. Thomas Francis    male   \n",
      "3          895       3                              Wirz, Mr. Albert    male   \n",
      "4          896       3  Hirvonen, Mrs. Alexander (Helga E Lindqvist)  female   \n",
      "\n",
      "    Age  SibSp  Parch   Ticket     Fare Cabin Embarked  Survived  \n",
      "0  34.5      0      0   330911   7.8292  -999        Q         0  \n",
      "1  47.0      1      0   363272   7.0000  -999        S         1  \n",
      "2  62.0      0      0   240276   9.6875  -999        Q         0  \n",
      "3  27.0      0      0   315154   8.6625  -999        S         0  \n",
      "4  22.0      1      1  3101298  12.2875  -999        S         1  \n"
     ]
    }
   ],
   "source": [
    "# result_check = X_test\n",
    "# print(result_check.head(5))"
   ]
  },
  {
   "cell_type": "code",
   "execution_count": null,
   "metadata": {},
   "outputs": [],
   "source": [
    "# result_check['Survived2'] = model2.predict(X_test)\n",
    "# result_check['Survived3'] = model3.predict(X_test)"
   ]
  },
  {
   "cell_type": "code",
   "execution_count": null,
   "metadata": {},
   "outputs": [
    {
     "data": {
      "text/html": [
       "<div>\n",
       "<style scoped>\n",
       "    .dataframe tbody tr th:only-of-type {\n",
       "        vertical-align: middle;\n",
       "    }\n",
       "\n",
       "    .dataframe tbody tr th {\n",
       "        vertical-align: top;\n",
       "    }\n",
       "\n",
       "    .dataframe thead th {\n",
       "        text-align: right;\n",
       "    }\n",
       "</style>\n",
       "<table border=\"1\" class=\"dataframe\">\n",
       "  <thead>\n",
       "    <tr style=\"text-align: right;\">\n",
       "      <th></th>\n",
       "      <th>PassengerId</th>\n",
       "      <th>Pclass</th>\n",
       "      <th>Name</th>\n",
       "      <th>Sex</th>\n",
       "      <th>Age</th>\n",
       "      <th>SibSp</th>\n",
       "      <th>Parch</th>\n",
       "      <th>Ticket</th>\n",
       "      <th>Fare</th>\n",
       "      <th>Cabin</th>\n",
       "      <th>Embarked</th>\n",
       "      <th>Survived</th>\n",
       "      <th>Survived2</th>\n",
       "      <th>Survived3</th>\n",
       "    </tr>\n",
       "  </thead>\n",
       "  <tbody>\n",
       "    <tr>\n",
       "      <th>0</th>\n",
       "      <td>892</td>\n",
       "      <td>3</td>\n",
       "      <td>Kelly, Mr. James</td>\n",
       "      <td>male</td>\n",
       "      <td>34.5</td>\n",
       "      <td>0</td>\n",
       "      <td>0</td>\n",
       "      <td>330911</td>\n",
       "      <td>7.8292</td>\n",
       "      <td>-999</td>\n",
       "      <td>Q</td>\n",
       "      <td>0</td>\n",
       "      <td>0</td>\n",
       "      <td>0</td>\n",
       "    </tr>\n",
       "    <tr>\n",
       "      <th>1</th>\n",
       "      <td>893</td>\n",
       "      <td>3</td>\n",
       "      <td>Wilkes, Mrs. James (Ellen Needs)</td>\n",
       "      <td>female</td>\n",
       "      <td>47.0</td>\n",
       "      <td>1</td>\n",
       "      <td>0</td>\n",
       "      <td>363272</td>\n",
       "      <td>7.0000</td>\n",
       "      <td>-999</td>\n",
       "      <td>S</td>\n",
       "      <td>1</td>\n",
       "      <td>1</td>\n",
       "      <td>1</td>\n",
       "    </tr>\n",
       "    <tr>\n",
       "      <th>2</th>\n",
       "      <td>894</td>\n",
       "      <td>2</td>\n",
       "      <td>Myles, Mr. Thomas Francis</td>\n",
       "      <td>male</td>\n",
       "      <td>62.0</td>\n",
       "      <td>0</td>\n",
       "      <td>0</td>\n",
       "      <td>240276</td>\n",
       "      <td>9.6875</td>\n",
       "      <td>-999</td>\n",
       "      <td>Q</td>\n",
       "      <td>0</td>\n",
       "      <td>0</td>\n",
       "      <td>0</td>\n",
       "    </tr>\n",
       "    <tr>\n",
       "      <th>3</th>\n",
       "      <td>895</td>\n",
       "      <td>3</td>\n",
       "      <td>Wirz, Mr. Albert</td>\n",
       "      <td>male</td>\n",
       "      <td>27.0</td>\n",
       "      <td>0</td>\n",
       "      <td>0</td>\n",
       "      <td>315154</td>\n",
       "      <td>8.6625</td>\n",
       "      <td>-999</td>\n",
       "      <td>S</td>\n",
       "      <td>0</td>\n",
       "      <td>0</td>\n",
       "      <td>0</td>\n",
       "    </tr>\n",
       "    <tr>\n",
       "      <th>4</th>\n",
       "      <td>896</td>\n",
       "      <td>3</td>\n",
       "      <td>Hirvonen, Mrs. Alexander (Helga E Lindqvist)</td>\n",
       "      <td>female</td>\n",
       "      <td>22.0</td>\n",
       "      <td>1</td>\n",
       "      <td>1</td>\n",
       "      <td>3101298</td>\n",
       "      <td>12.2875</td>\n",
       "      <td>-999</td>\n",
       "      <td>S</td>\n",
       "      <td>1</td>\n",
       "      <td>1</td>\n",
       "      <td>1</td>\n",
       "    </tr>\n",
       "  </tbody>\n",
       "</table>\n",
       "</div>"
      ],
      "text/plain": [
       "   PassengerId  Pclass                                          Name     Sex  \\\n",
       "0          892       3                              Kelly, Mr. James    male   \n",
       "1          893       3              Wilkes, Mrs. James (Ellen Needs)  female   \n",
       "2          894       2                     Myles, Mr. Thomas Francis    male   \n",
       "3          895       3                              Wirz, Mr. Albert    male   \n",
       "4          896       3  Hirvonen, Mrs. Alexander (Helga E Lindqvist)  female   \n",
       "\n",
       "    Age  SibSp  Parch   Ticket     Fare Cabin Embarked  Survived  Survived2  \\\n",
       "0  34.5      0      0   330911   7.8292  -999        Q         0          0   \n",
       "1  47.0      1      0   363272   7.0000  -999        S         1          1   \n",
       "2  62.0      0      0   240276   9.6875  -999        Q         0          0   \n",
       "3  27.0      0      0   315154   8.6625  -999        S         0          0   \n",
       "4  22.0      1      1  3101298  12.2875  -999        S         1          1   \n",
       "\n",
       "   Survived3  \n",
       "0          0  \n",
       "1          1  \n",
       "2          0  \n",
       "3          0  \n",
       "4          1  "
      ]
     },
     "execution_count": 50,
     "metadata": {},
     "output_type": "execute_result"
    }
   ],
   "source": [
    "# result_check.head(5)"
   ]
  },
  {
   "cell_type": "code",
   "execution_count": null,
   "metadata": {},
   "outputs": [
    {
     "data": {
      "text/html": [
       "<div>\n",
       "<style scoped>\n",
       "    .dataframe tbody tr th:only-of-type {\n",
       "        vertical-align: middle;\n",
       "    }\n",
       "\n",
       "    .dataframe tbody tr th {\n",
       "        vertical-align: top;\n",
       "    }\n",
       "\n",
       "    .dataframe thead th {\n",
       "        text-align: right;\n",
       "    }\n",
       "</style>\n",
       "<table border=\"1\" class=\"dataframe\">\n",
       "  <thead>\n",
       "    <tr style=\"text-align: right;\">\n",
       "      <th></th>\n",
       "      <th>PassengerId</th>\n",
       "      <th>Pclass</th>\n",
       "      <th>Name</th>\n",
       "      <th>Sex</th>\n",
       "      <th>Age</th>\n",
       "      <th>SibSp</th>\n",
       "      <th>Parch</th>\n",
       "      <th>Ticket</th>\n",
       "      <th>Fare</th>\n",
       "      <th>Cabin</th>\n",
       "      <th>Embarked</th>\n",
       "      <th>Survived</th>\n",
       "      <th>Survived2</th>\n",
       "      <th>Survived3</th>\n",
       "    </tr>\n",
       "  </thead>\n",
       "  <tbody>\n",
       "  </tbody>\n",
       "</table>\n",
       "</div>"
      ],
      "text/plain": [
       "Empty DataFrame\n",
       "Columns: [PassengerId, Pclass, Name, Sex, Age, SibSp, Parch, Ticket, Fare, Cabin, Embarked, Survived, Survived2, Survived3]\n",
       "Index: []"
      ]
     },
     "execution_count": 51,
     "metadata": {},
     "output_type": "execute_result"
    }
   ],
   "source": [
    "# result_check.loc[result_check['Survived2'] != result_check['Survived3']]\n",
    "# result_check.loc[result_check['Survived2'] != result_check['Survived']]"
   ]
  },
  {
   "cell_type": "code",
   "execution_count": null,
   "metadata": {},
   "outputs": [],
   "source": []
  },
  {
   "cell_type": "markdown",
   "metadata": {},
   "source": [
    "Finally you can make submission at [Titanic Kaggle competition](https://www.kaggle.com/c/titanic).\n",
    "\n",
    "That's it! Now you can play around with CatBoost and win some competitions! :)"
   ]
  }
 ],
 "metadata": {
  "kernelspec": {
   "display_name": ".venv",
   "language": "python",
   "name": "python3"
  },
  "language_info": {
   "codemirror_mode": {
    "name": "ipython",
    "version": 3
   },
   "file_extension": ".py",
   "mimetype": "text/x-python",
   "name": "python",
   "nbconvert_exporter": "python",
   "pygments_lexer": "ipython3",
   "version": "3.10.6"
  },
  "widgets": {
   "state": {
    "c26d03b66add4e078d26695cab837033": {
     "views": [
      {
       "cell_index": 21
      }
     ]
    }
   },
   "version": "1.2.0"
  }
 },
 "nbformat": 4,
 "nbformat_minor": 4
}
